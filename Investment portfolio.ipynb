{
 "cells": [
  {
   "cell_type": "markdown",
   "metadata": {},
   "source": [
    "# DeGiro Portfolio Analysis\n",
    "\n",
    "This notebook is used to track our DeGiro portfolio. \n",
    "* It will be developed further to include any other investments through other platforms.\n",
    "\n",
    "In the working directory save a csv called \"transactions.csv\" with the date of transaction, the ticker, the number of shares and the amount spent.\n"
   ]
  },
  {
   "cell_type": "code",
   "execution_count": 1,
   "metadata": {
    "hide_input": false
   },
   "outputs": [],
   "source": [
    "## Installing and importing needed packages\n",
    "\n",
    "# Future Development: make this code into a load_install function.\n",
    "import numpy as np\n",
    "import plotly as pt\n",
    "import pandas as pd\n",
    "import yfinance as yf\n",
    "import os as os\n",
    "import datetime\n",
    "import time\n",
    "\n",
    "Today = datetime.datetime.today()\n",
    "\n",
    "# Load data\n",
    "wd = os.getcwd()\n",
    "Transactions = pd.read_csv(\"Data/Transactions.csv\")\n",
    "\n",
    "Transactions['Date'] = pd.to_datetime(Transactions['Date'], format = \"%d/%m/%Y\")\n",
    "Start = Transactions['Date'].iloc[-1]\n",
    "date_list = [Start + datetime.timedelta(days=x) for x in range(0, (Today-Start).days)]\n"
   ]
  },
  {
   "cell_type": "code",
   "execution_count": 2,
   "metadata": {},
   "outputs": [],
   "source": [
    "# Create matrix of data to use\n",
    "#Tickers = [\"NET\",\"XRO.AX\",\"CSPX.L\",\"SUAS.SW\",\"SWDA.EAM\"] \n",
    "\n",
    "new_Ticks =  Transactions.Ticker.loc[Transactions.Reference.notnull()] + \".\" + Transactions.Reference.loc[Transactions.Reference.notnull()] \n",
    "Transactions.loc[Transactions.Reference.notnull(),\"Ticker\"] = new_Ticks\n",
    "\n",
    "Tickers = Transactions.Ticker.unique()\n",
    "\n",
    "share_prices = pd.DataFrame(date_list, columns = [\"Date\"])\n"
   ]
  },
  {
   "cell_type": "code",
   "execution_count": 3,
   "metadata": {},
   "outputs": [
    {
     "name": "stdout",
     "output_type": "stream",
     "text": [
      "XRO.AX\n",
      "ADBE\n",
      "TWOU\n",
      "TSLA\n",
      "CSPX.L\n",
      "AAPL\n",
      "NET\n",
      "SWDA.EAM\n",
      "- SWDA.EAM: No data found, symbol may be delisted\n",
      "SPOT\n",
      "MSFT\n",
      "SUAS.SW\n"
     ]
    }
   ],
   "source": [
    "prices = []\n",
    "\n",
    "for tick in Tickers:\n",
    "    print(tick)\n",
    "    #Start = min(Transactions.Date.loc[Transactions.Ticker == tick])\n",
    "    #print(str(Start.date()) + \"-\" + str(Today.date()))\n",
    "    time.sleep(1)\n",
    "    share = yf.Ticker(tick)\n",
    "    prices.append({'value':share.history(start = Start, end = Today).Close})\n",
    "    \n",
    "\n",
    "\n",
    "#share_prices"
   ]
  },
  {
   "cell_type": "code",
   "execution_count": 16,
   "metadata": {},
   "outputs": [],
   "source": [
    "prices_df = pd.DataFrame(prices, columns = Tickers)"
   ]
  },
  {
   "cell_type": "code",
   "execution_count": 19,
   "metadata": {},
   "outputs": [
    {
     "data": {
      "text/plain": [
       "[{'value': Date\n",
       "  2020-03-23     58.750000\n",
       "  2020-03-24     63.090000\n",
       "  2020-03-25     65.389999\n",
       "  2020-03-26     67.820000\n",
       "  2020-03-27     65.199997\n",
       "                   ...    \n",
       "  2021-03-04    115.900002\n",
       "  2021-03-05    113.169998\n",
       "  2021-03-08    112.599998\n",
       "  2021-03-09    108.320000\n",
       "  2021-03-10    111.029999\n",
       "  Name: Close, Length: 246, dtype: float64},\n",
       " {'value': Date\n",
       "  2020-03-23    307.269989\n",
       "  2020-03-24    310.000000\n",
       "  2020-03-25    305.910004\n",
       "  2020-03-26    322.670013\n",
       "  2020-03-27    305.829987\n",
       "                   ...    \n",
       "  2021-03-04    439.059998\n",
       "  2021-03-05    440.829987\n",
       "  2021-03-08    421.200012\n",
       "  2021-03-09    439.179993\n",
       "  2021-03-10    439.820007\n",
       "  Name: Close, Length: 244, dtype: float64},\n",
       " {'value': Date\n",
       "  2020-03-23    16.620001\n",
       "  2020-03-24    18.790001\n",
       "  2020-03-25    18.530001\n",
       "  2020-03-26    21.760000\n",
       "  2020-03-27    21.980000\n",
       "                  ...    \n",
       "  2021-03-04    35.570000\n",
       "  2021-03-05    35.540001\n",
       "  2021-03-08    34.209999\n",
       "  2021-03-09    37.070000\n",
       "  2021-03-10    37.299999\n",
       "  Name: Close, Length: 244, dtype: float64},\n",
       " {'value': Date\n",
       "  2020-03-23     86.858002\n",
       "  2020-03-24    101.000000\n",
       "  2020-03-25    107.849998\n",
       "  2020-03-26    105.632004\n",
       "  2020-03-27    102.872002\n",
       "                   ...    \n",
       "  2021-03-04    621.440002\n",
       "  2021-03-05    597.950012\n",
       "  2021-03-08    563.000000\n",
       "  2021-03-09    673.580017\n",
       "  2021-03-10    672.276611\n",
       "  Name: Close, Length: 244, dtype: float64},\n",
       " {'value': Date\n",
       "  2020-03-23    223.149994\n",
       "  2020-03-24    242.809998\n",
       "  2020-03-25    250.339996\n",
       "  2020-03-26    259.339996\n",
       "  2020-03-27    255.000000\n",
       "                   ...    \n",
       "  2021-03-02    391.980011\n",
       "  2021-03-03    390.859985\n",
       "  2021-03-04    386.929993\n",
       "  2021-03-05    378.230011\n",
       "  2021-03-10    394.540009\n",
       "  Name: Close, Length: 243, dtype: float64},\n",
       " {'value': Date\n",
       "  2020-03-23     55.661041\n",
       "  2020-03-24     61.245258\n",
       "  2020-03-25     60.907871\n",
       "  2020-03-26     64.113029\n",
       "  2020-03-27     61.458603\n",
       "                   ...    \n",
       "  2021-03-04    120.129997\n",
       "  2021-03-05    121.419998\n",
       "  2021-03-08    116.360001\n",
       "  2021-03-09    121.089996\n",
       "  2021-03-10    120.419998\n",
       "  Name: Close, Length: 244, dtype: float64},\n",
       " {'value': Date\n",
       "  2020-03-23    21.410000\n",
       "  2020-03-24    22.410000\n",
       "  2020-03-25    21.660000\n",
       "  2020-03-26    21.600000\n",
       "  2020-03-27    21.959999\n",
       "                  ...    \n",
       "  2021-03-04    67.300003\n",
       "  2021-03-05    67.029999\n",
       "  2021-03-08    61.770000\n",
       "  2021-03-09    69.430000\n",
       "  2021-03-10    70.029999\n",
       "  Name: Close, Length: 244, dtype: float64},\n",
       " {'value': Series([], Name: Close, dtype: float64)},\n",
       " {'value': Date\n",
       "  2020-03-23    118.180000\n",
       "  2020-03-24    129.690002\n",
       "  2020-03-25    124.230003\n",
       "  2020-03-26    126.809998\n",
       "  2020-03-27    122.540001\n",
       "                   ...    \n",
       "  2021-03-04    285.010010\n",
       "  2021-03-05    274.980011\n",
       "  2021-03-08    258.329987\n",
       "  2021-03-09    273.579987\n",
       "  2021-03-10    271.299988\n",
       "  Name: Close, Length: 244, dtype: float64},\n",
       " {'value': Date\n",
       "  2020-03-23    134.612076\n",
       "  2020-03-24    146.847717\n",
       "  2020-03-25    145.442017\n",
       "  2020-03-26    154.539566\n",
       "  2020-03-27    148.194046\n",
       "                   ...    \n",
       "  2021-03-04    226.729996\n",
       "  2021-03-05    231.600006\n",
       "  2021-03-08    227.389999\n",
       "  2021-03-09    233.779999\n",
       "  2021-03-10    232.660004\n",
       "  Name: Close, Length: 244, dtype: float64},\n",
       " {'value': Date\n",
       "  2020-03-23     6.041\n",
       "  2020-03-24     6.598\n",
       "  2020-03-25     6.849\n",
       "  2020-03-26     7.073\n",
       "  2020-03-27     6.945\n",
       "                 ...  \n",
       "  2021-03-02    10.958\n",
       "  2021-03-03    10.890\n",
       "  2021-03-04    10.726\n",
       "  2021-03-05    10.512\n",
       "  2021-03-10    11.054\n",
       "  Name: Close, Length: 242, dtype: float64}]"
      ]
     },
     "execution_count": 19,
     "metadata": {},
     "output_type": "execute_result"
    }
   ],
   "source": [
    "prices"
   ]
  },
  {
   "cell_type": "code",
   "execution_count": null,
   "metadata": {},
   "outputs": [],
   "source": []
  }
 ],
 "metadata": {
  "kernelspec": {
   "display_name": "Python 3",
   "language": "python",
   "name": "python3"
  },
  "language_info": {
   "codemirror_mode": {
    "name": "ipython",
    "version": 3
   },
   "file_extension": ".py",
   "mimetype": "text/x-python",
   "name": "python",
   "nbconvert_exporter": "python",
   "pygments_lexer": "ipython3",
   "version": "3.8.5"
  },
  "toc": {
   "base_numbering": 1,
   "nav_menu": {},
   "number_sections": true,
   "sideBar": true,
   "skip_h1_title": false,
   "title_cell": "Table of Contents",
   "title_sidebar": "Contents",
   "toc_cell": false,
   "toc_position": {},
   "toc_section_display": true,
   "toc_window_display": false
  },
  "varInspector": {
   "cols": {
    "lenName": 16,
    "lenType": 16,
    "lenVar": 40
   },
   "kernels_config": {
    "python": {
     "delete_cmd_postfix": "",
     "delete_cmd_prefix": "del ",
     "library": "var_list.py",
     "varRefreshCmd": "print(var_dic_list())"
    },
    "r": {
     "delete_cmd_postfix": ") ",
     "delete_cmd_prefix": "rm(",
     "library": "var_list.r",
     "varRefreshCmd": "cat(var_dic_list()) "
    }
   },
   "types_to_exclude": [
    "module",
    "function",
    "builtin_function_or_method",
    "instance",
    "_Feature"
   ],
   "window_display": false
  }
 },
 "nbformat": 4,
 "nbformat_minor": 4
}
